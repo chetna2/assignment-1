{
 "cells": [
  {
   "cell_type": "markdown",
   "metadata": {},
   "source": [
    "In each of the following situations, state whether it is a correctly stated hypothesis\n",
    "testing problem and why?\n",
    "1. H0: μ = 25, H1: μ ≠ 25\n",
    "2. H0: σ > 10, H1: σ = 10\n",
    "3. H0: x = 50, H1: x ≠ 50\n",
    "4. H0: p = 0.1, H1: p = 0.5\n",
    "5. H0: s = 30, H1: s > 30"
   ]
  },
  {
   "cell_type": "markdown",
   "metadata": {},
   "source": [
    "1.  H0: μ = 25, H1: μ ≠ 25\n",
    "This is valid two tailed hypothesis, since alternate hypothesis is reverse of null hypothesis.\n",
    "2. H0: σ > 10, H1: σ = 10\n",
    "This is invalid hypothesis.\n",
    "3. H0: x = 50, H1: x ≠ 50\n",
    "This is valid two tailed hypothesis, since alternate hypothesis is reverse of null hypothesis.\n",
    "4. H0: p = 0.1, H1: p = 0.5\n",
    "This is invalid hypothesis, since alternate hypothesis is not reverse of null hypothesis.\n",
    "5. H0: s = 30, H1: s > 30\n",
    "This is valid hypothesis, for one sided test.(Right tailed test)"
   ]
  },
  {
   "cell_type": "markdown",
   "metadata": {},
   "source": [
    "The college bookstore tells prospective students that the average cost of its\n",
    "textbooks is Rs. 52 with a standard deviation of Rs. 4.50. A group of smart statistics\n",
    "students thinks that the average cost is higher. To test the bookstore’s claim against\n",
    "their alternative, the students will select a random sample of size 100. Assume that\n",
    "the mean from their random sample is Rs. 52.80. Perform a hypothesis test at the\n",
    "5% level of significance and state your decision."
   ]
  },
  {
   "cell_type": "code",
   "execution_count": 1,
   "metadata": {},
   "outputs": [
    {
     "name": "stdout",
     "output_type": "stream",
     "text": [
      "Z test value 1.7777777777777715\n",
      "zcritical value 1.959963984540054\n",
      "We accept Null hypothesis with Ho:\n",
      "The average cost of books is 52\n"
     ]
    }
   ],
   "source": [
    "\n",
    "#H0: u=52\n",
    "#h1: u not equal to 52\n",
    "import math\n",
    "pop_mean=52\n",
    "pop_sd=4.50\n",
    "n=100\n",
    "sam_mean=52.80\n",
    "sig=0.05   #alpha=1-sig\n",
    "n1=math.sqrt(n)\n",
    "n2=pop_sd/n1\n",
    "Z=(sam_mean-pop_mean)/n2\n",
    "print(\"Z test value\",Z)\n",
    "import scipy.stats as st\n",
    "alpha=1-sig/2\n",
    "zc=st.norm.ppf(alpha)\n",
    "print(\"zcritical value\",zc)\n",
    "if -zc< Z<zc:\n",
    "    print(\"We accept Null hypothesis with Ho:\")\n",
    "    print(\"The average cost of books is\",pop_mean)\n",
    "else:\n",
    "    print(\"We reject Null hypothesis with Ho:\")\n",
    "    print(\"The average cost of books is not\",pop_mean)\n",
    "        "
   ]
  },
  {
   "cell_type": "markdown",
   "metadata": {},
   "source": [
    "A certain chemical pollutant in the Genesee River has been constant for several\n",
    "years with mean μ = 34 ppm (parts per million) and standard deviation σ = 8 ppm. A\n",
    "group of factory representatives whose companies discharge liquids into the river is\n",
    "now claiming that they have lowered the average with improved filtration devices. A\n",
    "group of environmentalists will test to see if this is true at the 1% level of\n",
    "significance. Assume \\ that their sample of size 50 gives a mean of 32.5 ppm.\n",
    "Perform a hypothesis test at the 1% level of significance and state your decision."
   ]
  },
  {
   "cell_type": "code",
   "execution_count": 2,
   "metadata": {},
   "outputs": [
    {
     "name": "stdout",
     "output_type": "stream",
     "text": [
      "Zsquare value -1.3258252147247767\n",
      "2.5758293035489004\n",
      "We accept Null hypothesis with Ho:\n",
      "There claim that they have lowered the average with improved filtration devices is true\n"
     ]
    }
   ],
   "source": [
    "# H0: u=34\n",
    "# H1: u is not equal 34\n",
    "import math\n",
    "pop_mean=34\n",
    "pop_sd=8\n",
    "n=50\n",
    "sam_mean=32.5\n",
    "sig=0.01\n",
    "n1=math.sqrt(n)\n",
    "n2=pop_sd/n1\n",
    "Z=(sam_mean-pop_mean)/n2\n",
    "print(\"Zsquare value\",Z)\n",
    "import scipy.stats as st\n",
    "alpha=1-sig/2           # 2 tail test\n",
    "zc=st.norm.ppf(alpha)\n",
    "print(\"zcritical\",zc)\n",
    "if -zc< Z<zc:\n",
    "    print(\"We accept Null hypothesis with Ho:\")\n",
    "    print(\"There claim that they have lowered the average with improved filtration devices is true\")\n",
    "else:\n",
    "    print(\"We reject Null hypothesis with Ho:\")\n",
    "    print(\"There claim that they have lowered the average with improved filtration devices is false\")\n",
    "        "
   ]
  },
  {
   "cell_type": "markdown",
   "metadata": {},
   "source": [
    "Based on population figures and other general information on the U.S. population,\n",
    "suppose it has been estimated that, on average, a family of four in the U.S. spends\n",
    "about $1135 annually on dental expenditures. Suppose further that a regional dental\n",
    "association wants to test to determine if this figure is accurate for their area of\n",
    "country. To test this, 22 families of 4 are randomly selected from the population in\n",
    "that area of the country and a log is kept of the family’s dental expenditure for one\n",
    "year. The resulting data are given below. Assuming, that dental expenditure is\n",
    "normally distributed in the population, use the data and an alpha of 0.5 to test the\n",
    "dental association’s hypothesis.\n",
    "1008, 812, 1117, 1323, 1308, 1415, 831, 1021, 1287, 851, 930, 730, 699,\n",
    "872, 913, 944, 954, 987, 1695, 995, 1003, 994"
   ]
  },
  {
   "cell_type": "code",
   "execution_count": 38,
   "metadata": {},
   "outputs": [
    {
     "name": "stdout",
     "output_type": "stream",
     "text": [
      "tvalue using formula -2.023137479931484\n",
      "t and pvalue using library -2.023137479931484 0.0559738319464585\n",
      "tscore 0.6863519891164291\n",
      "We reject Null hypothesis with Ho:\n",
      "The average figure is not accurate for their area of country. 1135\n"
     ]
    }
   ],
   "source": [
    "import math\n",
    "import statistics\n",
    "from scipy.stats import ttest_1samp\n",
    "pop_mean=1135\n",
    "sam=[1008, 812, 1117, 1323, 1308, 1415, 831, 1021, 1287, 851, 930, 730, 699,872, 913, 944, 954, 987, 1695, 995, 1003, 994]\n",
    "n=len(sam)\n",
    "sam_mean=statistics.mean(sam)\n",
    "sam_sd=statistics.stdev(sam)\n",
    "alpha=0.5\n",
    "dof=n-1\n",
    "n1=math.sqrt(n)\n",
    "n2=sam_sd/n1\n",
    "t=(sam_mean-pop_mean)/n2\n",
    "print(\"tvalue using formula\",t)\n",
    "# using library:\n",
    "ttest,pvalue=ttest_1samp(sam,pop_mean)\n",
    "print(\"t and pvalue using library\",ttest,pvalue)\n",
    "import scipy\n",
    "t1=scipy.stats.t.ppf(1-alpha/2, dof)\n",
    "print(\"tscore\",t1)\n",
    "\n",
    "if -t1< ttest< t1:\n",
    "    print(\"We accept Null hypothesis with Ho:\")\n",
    "    print(\"The average figure is accurate for their area of country.\",pop_mean)\n",
    "else:\n",
    "    print(\"We reject Null hypothesis with Ho:\")\n",
    "    print(\"The average figure is not accurate for their area of country.\",pop_mean)"
   ]
  },
  {
   "cell_type": "markdown",
   "metadata": {},
   "source": [
    "In a report prepared by the Economic Research Department of a major bank the\n",
    "Department manager maintains that the average annual family income on Metropolis\n",
    "is $48,432. What do you conclude about the validity of the report if a random sample\n",
    "of 400 families shows and average income of $48,574 with a standard deviation of\n",
    "2000?"
   ]
  },
  {
   "cell_type": "code",
   "execution_count": 39,
   "metadata": {},
   "outputs": [
    {
     "name": "stdout",
     "output_type": "stream",
     "text": [
      "tvalue using formula 1.42\n",
      "tscore 1.965927295920809\n",
      "We accept Null hypothesis with Ho:\n",
      "The report by Economic Research Department is valid with population mean 48432\n"
     ]
    }
   ],
   "source": [
    "#H0: u=48432\n",
    "#H1: u is not equal to 48432\n",
    "\n",
    "pop_mean=48432\n",
    "n=400\n",
    "sam_mean=48574\n",
    "sam_sd=2000\n",
    "alpha=0.05   #assume\n",
    "\n",
    "#sample sd is given, sample size<30...ttest\n",
    "dof=n-1\n",
    "n1=math.sqrt(n)\n",
    "n2=sam_sd/n1\n",
    "t=(sam_mean-pop_mean)/n2\n",
    "print(\"tvalue using formula\",t)\n",
    "import scipy\n",
    "t1=scipy.stats.t.ppf(1-alpha/2, dof)\n",
    "print(\"tscore\",t1)\n",
    "\n",
    "if -t1<t<t1:\n",
    "    print(\"We accept Null hypothesis with Ho:\")\n",
    "    print(\"The report by Economic Research Department is valid with population mean\",pop_mean)\n",
    "else:\n",
    "    print(\"We reject Null hypothesis with Ho:\")\n",
    "    print(\"The report by Economic Research Department is invalid with population mean\",pop_mean)"
   ]
  },
  {
   "cell_type": "markdown",
   "metadata": {},
   "source": [
    "Suppose that in past years the average price per square foot for warehouses in the\n",
    "United States has been $32.28. A national real estate investor wants to determine\n",
    "whether that figure has changed now. The investor hires a researcher who randomly\n",
    "samples 19 warehouses that are for sale across the United States and finds that the\n",
    "mean price per square foot is $31.67, with a standard deviation of $1.29. assume\n",
    "that the prices of warehouse footage are normally distributed in population. If the\n",
    "researcher uses a 5% level of significance, what statistical conclusion can be\n",
    "reached? What are the hypotheses?"
   ]
  },
  {
   "cell_type": "code",
   "execution_count": 40,
   "metadata": {},
   "outputs": [
    {
     "name": "stdout",
     "output_type": "stream",
     "text": [
      "tvalue using formula -2.06118477175179\n",
      "tscore 2.10092204024096\n",
      "We accept Null hypothesis with Ho:\n",
      "The average price per square foot for warehouses in United States is 32.28\n",
      "The average price per square foot for warehouses in the United States did not change\n"
     ]
    }
   ],
   "source": [
    "import math\n",
    "pop_mean=32.28\n",
    "n=19\n",
    "sam_mean=31.67\n",
    "sam_sd=1.29\n",
    "sig=0.05\n",
    "#as sample sd is given, use ttest\n",
    "dof=n-1\n",
    "n1=math.sqrt(n)\n",
    "n2=sam_sd/n1\n",
    "t=(sam_mean-pop_mean)/n2\n",
    "print(\"tvalue using formula\",t)\n",
    "import scipy.stats\n",
    "t1=scipy.stats.t.ppf(1-sig/2, dof)\n",
    "print(\"tscore\",t1)\n",
    "\n",
    "if -t1<t<t1:\n",
    "    print(\"We accept Null hypothesis with Ho:\")\n",
    "    print(\"The average price per square foot for warehouses in United States is\",pop_mean)\n",
    "    print(\"The average price per square foot for warehouses in the United States did not change\")\n",
    "else:\n",
    "    print(\"We reject Null hypothesis with Ho:\")\n",
    "    print(\"The average price per square foot for warehouses in United States is not\",pop_mean)"
   ]
  },
  {
   "cell_type": "markdown",
   "metadata": {},
   "source": [
    "Find the t-score for a sample size of 16 taken from a population with mean 10 when\n",
    "the sample mean is 12 and the sample standard deviation is 1.5."
   ]
  },
  {
   "cell_type": "code",
   "execution_count": 6,
   "metadata": {},
   "outputs": [
    {
     "name": "stdout",
     "output_type": "stream",
     "text": [
      "tvalue using formula 5.333333333333333\n",
      "tscore 1.7530503556925547\n"
     ]
    }
   ],
   "source": [
    "import math\n",
    "n=16\n",
    "pop_mean=10\n",
    "sam_mean=12\n",
    "sam_sd=1.5\n",
    "sig=0.05     # alpha=0.05\n",
    "dof=n-1\n",
    "n1=math.sqrt(n)\n",
    "n2=sam_sd/n1\n",
    "t=(sam_mean-pop_mean)/n2\n",
    "print(\"tvalue using formula\",t)\n",
    "import scipy\n",
    "alpha=1-sig\n",
    "t1=scipy.stats.t.ppf(alpha, dof)       \n",
    "print(\"tscore\",t1)\n",
    "\n"
   ]
  },
  {
   "cell_type": "markdown",
   "metadata": {},
   "source": [
    "Find the t-score below which we can expect 99% of sample means will fall if samples\n",
    "of size 16 are taken from a normally distributed population."
   ]
  },
  {
   "cell_type": "code",
   "execution_count": 6,
   "metadata": {},
   "outputs": [
    {
     "name": "stdout",
     "output_type": "stream",
     "text": [
      "tscore -2.602480294995493\n"
     ]
    }
   ],
   "source": [
    "import scipy\n",
    "\n",
    "n=16\n",
    "#1-alpha=0.99\n",
    "alpha=1-0.99\n",
    "df=n-1\n",
    "\n",
    "t1=scipy.stats.t.ppf(alpha, df)                   # reads ttable using df and alpha\n",
    "print(\"tscore\",t1)\n",
    "\n",
    "\n"
   ]
  },
  {
   "cell_type": "markdown",
   "metadata": {},
   "source": [
    "If a random sample of size 25 drawn from a normal population gives a mean of 60\n",
    "and a standard deviation of 4, find the range of t-scores where we can expect to find\n",
    "the middle 95% of all sample means. Compute the probability that (−t0.05 <t<t0.10)."
   ]
  },
  {
   "cell_type": "code",
   "execution_count": 15,
   "metadata": {},
   "outputs": [
    {
     "name": "stdout",
     "output_type": "stream",
     "text": [
      "tcritical 2.0638985616280205\n",
      "The range of Tscores -2.0638985616280205 2.0638985616280205\n",
      "Probability that (−t0.05 <t<t0.10): 0.85\n"
     ]
    }
   ],
   "source": [
    "n=25\n",
    "dof=n-1\n",
    "sam_mean=60\n",
    "sam_sd=4\n",
    "sig=0.05\n",
    "import scipy\n",
    "alpha=1-sig\n",
    "t1=scipy.stats.t.ppf(1-sig/2, dof)       \n",
    "print(\"tcritical\",t1)\n",
    "print(\"The range of Tscores\",-t1,t1)\n",
    "P=1-0.10-0.05\n",
    "print(\"Probability that (−t0.05 <t<t0.10):\",P)"
   ]
  },
  {
   "cell_type": "markdown",
   "metadata": {},
   "source": [
    "Two-tailed test for difference between two population means\n",
    "Is there evidence to conclude that the number of people travelling from Bangalore to\n",
    "Chennai is different from the number of people travelling from Bangalore to Hosur in\n",
    "a week, given the following:\n",
    "Population 1: Bangalore to Chennai n1 = 1200\n",
    "x1 = 452\n",
    "s1 = 212\n",
    "Population 2: Bangalore to Hosur n2 = 800\n",
    "x2 = 523\n",
    "s2 = 185"
   ]
  },
  {
   "cell_type": "code",
   "execution_count": 7,
   "metadata": {},
   "outputs": [
    {
     "name": "stdout",
     "output_type": "stream",
     "text": [
      "ztest value -7.926428526759299\n",
      "1.959963984540054\n",
      "Reject H0\n",
      "H1: the number of people travelling from Bangalore to Chennai is not different from the number of people travelling from Bangalore to Hosur in a week\n"
     ]
    }
   ],
   "source": [
    "# as sd for pop is given,n>30, we perform ztest, two tailed\n",
    "n1=1200\n",
    "x1=452\n",
    "s1=212\n",
    "n2=800\n",
    "x2=523\n",
    "s2=185\n",
    "import math\n",
    "s=(s1**2/n1)+(s2**2/n2)\n",
    "se=math.sqrt(s)\n",
    "zval=(x1-x2)/se\n",
    "print(\"ztest value\",zval)\n",
    "sig=0.05\n",
    "#two tailed test\n",
    "\n",
    "import scipy.stats as st\n",
    "alpha=1-sig/2\n",
    "p=st.norm.ppf(alpha)\n",
    "print(p)\n",
    "if -p<zval<p:\n",
    "    print(\"Accept H0\")\n",
    "    print(\"H0: the number of people travelling from Bangalore to Chennai is different from the number of people travelling from Bangalore to Hosur in a week\")\n",
    "else:\n",
    "    print(\"Reject H0\")\n",
    "    print(\"H1: the number of people travelling from Bangalore to Chennai is not different from the number of people travelling from Bangalore to Hosur in a week\")"
   ]
  },
  {
   "cell_type": "markdown",
   "metadata": {},
   "source": [
    "Is there evidence to conclude that the number of people preferring Duracell battery is\n",
    "different from the number of people preferring Energizer battery, given the following:\n",
    "Population 1: Duracell\n",
    "n1 = 100\n",
    "x1 = 308\n",
    "s1 = 84\n",
    "Population 2: Energizer\n",
    "n2 = 100\n",
    "x2 = 254\n",
    "s2 = 67\n",
    "\n"
   ]
  },
  {
   "cell_type": "code",
   "execution_count": 20,
   "metadata": {},
   "outputs": [
    {
     "name": "stdout",
     "output_type": "stream",
     "text": [
      "5.025702668336442\n",
      "1.959963984540054\n",
      "Reject H0\n",
      "H1:Number of people using both batteries are same\n"
     ]
    }
   ],
   "source": [
    "n1 = 100\n",
    "x1 = 308\n",
    "s1 = 84\n",
    "n2 = 100\n",
    "x2 = 254\n",
    "s2 = 67\n",
    "#as n>30, use z test\n",
    "#H0: Number of people using both batteries are different\n",
    "#H1: Number of people using both batteries are same\n",
    "\n",
    "import math\n",
    "s=(s1**2/n1)+(s2**2/n2)\n",
    "se=math.sqrt(s)\n",
    "zval=(x1-x2)/se\n",
    "print(zval)\n",
    "sig=0.05\n",
    "import scipy.stats as st\n",
    "alpha=1-sig/2\n",
    "p=st.norm.ppf(alpha)\n",
    "print(p)\n",
    "if -p<zval<p:\n",
    "    print(\"Accept H0\")\n",
    "    print(\"H0: Number of people using both batteries are different\")\n",
    "else:\n",
    "    print(\"Reject H0\")\n",
    "    print(\"H1:Number of people using both batteries are same\")"
   ]
  },
  {
   "cell_type": "markdown",
   "metadata": {},
   "source": [
    "Pooled estimate of the population variance\n",
    "Does the data provide sufficient evidence to conclude that average percentage\n",
    "increase in the price of sugar differs when it is sold at two different prices?\n",
    "Population 1: Price of sugar = Rs. 27.50 n1 = 14\n",
    "x1 = 0.317%\n",
    "s1 = 0.12%\n",
    "Population 2: Price of sugar = Rs. 20.00 n2 = 9\n",
    "x2 = 0.21%\n",
    "s2 = 0.11%"
   ]
  },
  {
   "cell_type": "code",
   "execution_count": 18,
   "metadata": {},
   "outputs": [
    {
     "name": "stdout",
     "output_type": "stream",
     "text": [
      "0.4272466296411038\n",
      "ttest value 2.15355322387416\n",
      "tscore 2.079613844727662\n",
      "We reject Null hypothesis with Ho:\n",
      "price of sugar does not increase\n"
     ]
    }
   ],
   "source": [
    "#H0: average percentage increase in the price of sugar differs when it is sold at two different prices\n",
    "#H1: average percentage does not increase in the price of sugar differs when it is sold at two different prices\n",
    "p1=27.50\n",
    "n1=14\n",
    "x1=0.00317\n",
    "s1=0.0012\n",
    "p2=20.00\n",
    "n2=9\n",
    "x2=0.0021\n",
    "s2=0.0011\n",
    "p=p1-p2\n",
    "\n",
    "df=n1+n2-2\n",
    "# as sample size< 30, ttest\n",
    "num=((n1-1)*(s1**2))+((n2-1)*(s2**2))\n",
    "s12=math.sqrt(num/(df))\n",
    "s=math.sqrt(1/n1+1/n2)\n",
    "se=s12*s\n",
    "print(s)\n",
    "x=abs(x1-x2)\n",
    "ttest=x/se\n",
    "print(\"ttest value\",ttest)\n",
    "import scipy.stats\n",
    "sig=0.05\n",
    "t1=scipy.stats.t.ppf(1-sig/2, df)    #2 tailed\n",
    "print(\"tscore\",t1)\n",
    "if -t1<ttest<t1:\n",
    "    print(\"We accept Null hypothesis with Ho:\")\n",
    "    print(\"price of sugar increase\")\n",
    "else:\n",
    "    print(\"We reject Null hypothesis with Ho:\")\n",
    "    print(\"price of sugar does not increase\")"
   ]
  },
  {
   "cell_type": "markdown",
   "metadata": {},
   "source": [
    "\n",
    "The manufacturers of compact disk players want to test whether a small price\n",
    "reduction is enough to increase sales of their product. Is there evidence that the\n",
    "small price reduction is enough to increase sales of compact disk players?\n",
    "Population 1: Before reduction\n",
    "n1 = 15\n",
    "x1 = Rs. 6598 s1 = Rs. 844\n",
    "Population 2: After reduction n2 = 12\n",
    "x2 = RS. 6870\n",
    "s2 = Rs. 669"
   ]
  },
  {
   "cell_type": "code",
   "execution_count": 22,
   "metadata": {},
   "outputs": [
    {
     "name": "stdout",
     "output_type": "stream",
     "text": [
      "0.3872983346207417\n",
      "ttest value 0.9098300343990459\n",
      "tscore 1.7081407612518986\n",
      "We accept Null hypothesis with Ho:\n",
      "a small price reduction is enough to increase sales of CD players.\n"
     ]
    }
   ],
   "source": [
    "import math\n",
    "#H0: a small price reduction is enough to increase sales of CD players.\n",
    "#H1: a small price reduction is not enough to increase sales of CD players.\n",
    "n1 = 15\n",
    "x1 = 6598 \n",
    "s1 = 844\n",
    "n2 = 12\n",
    "x2 = 6870\n",
    "s2 = 669\n",
    "df=n1+n2-2\n",
    "# as sample size< 30, ttest\n",
    "num=((n1-1)*(s1**2))+((n2-1)*(s2**2))\n",
    "s12=math.sqrt(num/(df))\n",
    "s=math.sqrt(1/n1+1/n2)\n",
    "se=s12*s\n",
    "print(s)\n",
    "x=abs(x1-x2)\n",
    "ttest=x/se\n",
    "print(\"ttest value\",ttest)\n",
    "import scipy.stats\n",
    "sig=0.05\n",
    "t1=scipy.stats.t.ppf(1-sig, df)    #1 tailed\n",
    "print(\"tscore\",t1)\n",
    "if -t1<ttest<t1:\n",
    "    print(\"We accept Null hypothesis with Ho:\")\n",
    "    print(\"a small price reduction is enough to increase sales of CD players.\")\n",
    "else:\n",
    "    print(\"We reject Null hypothesis with Ho:\")\n",
    "    print(\"a small price reduction is NOT enough to increase sales of CD players.\")"
   ]
  },
  {
   "cell_type": "markdown",
   "metadata": {},
   "source": [
    "Comparisons of two population proportions when the hypothesized difference is zero\n",
    "Carry out a two-tailed test of the equality of banks’ share of the car loan market in\n",
    "1980 and 1995.\n",
    "Population 1: 1980\n",
    "n1 = 1000\n",
    "x1 = 53\n",
    "p 1 = 0.53\n",
    "Population 2: 1985\n",
    "n2 = 100\n",
    "x2 = 43\n",
    "p 2= 0.53"
   ]
  },
  {
   "cell_type": "code",
   "execution_count": 30,
   "metadata": {},
   "outputs": [
    {
     "name": "stdout",
     "output_type": "stream",
     "text": [
      "0.48\n",
      "test 1.4153462926807452\n",
      "zscore, 1.6448536269514722\n",
      "Accept H0:u1-u2=0\n"
     ]
    }
   ],
   "source": [
    "#given, hypnothsized difference=0; samples>30  Ztest\n",
    "# 2 tailed test\n",
    "n1 = 1000\n",
    "n1=100    # assume n=100\n",
    "x1 = 53\n",
    "p1 = 0.53\n",
    "n2 = 100\n",
    "x2 = 43\n",
    "p2= 0.43\n",
    "import math\n",
    "#H0: u1-u2=0\n",
    "#H1: u1-u2!=0\n",
    "pc=(x1+x2)/(n1+n2)\n",
    "print(pc)\n",
    "a=((1/n1)+(1/n2))\n",
    "pc1=math.sqrt(pc*(1-pc)*a)\n",
    "ztest=(p1-p2)/pc1\n",
    "print(\"test\",ztest)\n",
    "sig=0.1\n",
    "import scipy.stats as st\n",
    "alpha=1-sig/2\n",
    "zscore=st.norm.ppf(alpha)\n",
    "print(\"zscore,\",zscore)\n",
    "if -zscore<ztest<zscore:\n",
    "    print(\"Accept H0:u1-u2=0\")\n",
    "else:\n",
    "    print(\"Reject H0\")"
   ]
  },
  {
   "cell_type": "markdown",
   "metadata": {},
   "source": [
    "Carry out a one-tailed test to determine whether the population proportion of\n",
    "traveler’s check buyers who buy at least $2500 in checks when sweepstakes prizes\n",
    "are offered as at least 10% higher than the proportion of such buyers when no\n",
    "sweepstakes are on.\n",
    "Population 1: With sweepstakes\n",
    "n1 = 300\n",
    "x1 = 120\n",
    "p = 0.40\n",
    "Population 2: No sweepstakes n2 = 700\n",
    "x2 = 140\n",
    "p 2= 0.20"
   ]
  },
  {
   "cell_type": "code",
   "execution_count": 23,
   "metadata": {},
   "outputs": [
    {
     "name": "stdout",
     "output_type": "stream",
     "text": [
      "0.1\n",
      "3.1180478223116177\n",
      "3.2905267314919255\n",
      "Accept H0\n"
     ]
    }
   ],
   "source": [
    "#p1 !=x1/n1 and p2!=x2/n2, smaple>30, ztest\n",
    "#one tailed test\n",
    "n1 = 300\n",
    "x1 = 120\n",
    "p1 = 0.40\n",
    "n2 = 700\n",
    "x2 = 140\n",
    "p2= 0.20\n",
    "pc=(x1+x2)/(n1+n2)\n",
    "pc\n",
    "num=(p1-p2)-0.10\n",
    "print(num)\n",
    "a=(p1*(1-p1))/n1\n",
    "b=(p2*(1-p2))/n2\n",
    "den=math.sqrt(a+b)\n",
    "ztest=num/den\n",
    "print(ztest)\n",
    "sig=0.001\n",
    "import scipy.stats as st\n",
    "alpha=1-sig/2\n",
    "zscore=st.norm.ppf(alpha)\n",
    "print(zscore)\n",
    "if ztest<zscore:\n",
    "    print(\"Accept H0\")\n",
    "else:\n",
    "    print(\"Reject H0\")\n",
    "    print(\" we may conclude that the proportion of customers buying at least $2500 of travelers checks is at least 10% higher when sweepstakes are on.\")"
   ]
  },
  {
   "cell_type": "markdown",
   "metadata": {},
   "source": [
    "A die is thrown 132 times with the following results: Number turned up: 1, 2, 3, 4, 5, 6\n",
    "Frequency: 16, 20, 25, 14, 29, 28\n",
    "Is the die unbiased? Consider the degrees of freedom as p − 1."
   ]
  },
  {
   "cell_type": "code",
   "execution_count": 21,
   "metadata": {},
   "outputs": [
    {
     "name": "stdout",
     "output_type": "stream",
     "text": [
      "chi square value 9.0\n",
      "chi score 11.070497693516351\n",
      "Accept H0\n",
      "The die is unbiased\n"
     ]
    }
   ],
   "source": [
    "#H0:The die is unbiased\n",
    "#H1: The die is not unbiased\n",
    "d=132\n",
    "n=6\n",
    "E=d/n   #expected frequency of each number\n",
    "s=0\n",
    "occur=[16, 20, 25, 14, 29, 28]\n",
    "for i in occur:\n",
    "    s1=i-E\n",
    "    s2=s1*s1\n",
    "    s2=s2/E\n",
    "    s=s+s2\n",
    "print(\"chi square value\",s)\n",
    "dof=n-1\n",
    "sig=0.05\n",
    "chiscore=scipy.stats.chi2.ppf(1-sig, dof)\n",
    "print(\"chi score\",chiscore)\n",
    "if s<chiscore:\n",
    "    print(\"Accept H0\")\n",
    "    print(\"The die is unbiased\")\n",
    "else:\n",
    "    print(\"Reject H0\")\n",
    "    print(\"The die is not unbiased\")"
   ]
  },
  {
   "cell_type": "markdown",
   "metadata": {},
   "source": [
    "In a certain town, there are about one million eligible voters. A simple random\n",
    "sample of 10,000 eligible voters was chosen to study the relationship between\n",
    "gender and participation in the last election. The results are summarized in the\n",
    "following 2X2 (read two by two) contingency table:\n",
    "\n",
    "We would want to check whether being a man or a woman (columns) is independent of\n",
    "having voted in the last election (rows). In other words, is “gender and voting independent”?"
   ]
  },
  {
   "cell_type": "code",
   "execution_count": 3,
   "metadata": {},
   "outputs": [
    {
     "name": "stdout",
     "output_type": "stream",
     "text": [
      "[[2792 3591]\n",
      " [1486 2131]]\n",
      "[[2730.6474, 3652.3526], [1547.3526, 2069.6474]]\n",
      "<class 'list'>\n",
      "<class 'numpy.ndarray'>\n",
      "Chi square value 6.660455899328067\n",
      "chi score 3.841458820694124\n",
      "Reject H0\n",
      "Gender and voting is NOT independent.\n"
     ]
    }
   ],
   "source": [
    "#H0: Gender and voting is independent.\n",
    "#H1: Gender and voting is NOT independent\n",
    "#Chi square test\n",
    "import numpy as np\n",
    "A = np.array([[2792,3591],[1486,2131]])\n",
    "print(A)\n",
    "colsum=(np.sum(A,axis=0))\n",
    "rowsum=(np.sum(A,axis=1))\n",
    "tot=10000\n",
    "\n",
    "#tot=np.array([rowsum,colsum])\n",
    "#print(tot)\n",
    "#totsum=(np.sum(tot))\n",
    "#print(totsum)\n",
    "E=[]\n",
    "for i in rowsum:\n",
    "    a=[]\n",
    "    for j in colsum:\n",
    "        v=i*j/tot\n",
    "        a.append(v)\n",
    "    E.append(a)\n",
    "print(E)\n",
    "print(type(E))\n",
    "print(type(A))\n",
    "s=0\n",
    "for i in range(len(A)):\n",
    "    for j in range(len(A[0])):\n",
    "        temp=(A[i][j]-E[i][j])**2\n",
    "        t1=temp/E[i][j]\n",
    "        s=s+t1\n",
    "print(\"Chi square value\",s)    \n",
    "dof=1   #(no of rows-1)*(no of col-1)\n",
    "sig=0.05\n",
    "import scipy.stats\n",
    "chiscore=scipy.stats.chi2.ppf(1-sig, dof)\n",
    "print(\"chi score\",chiscore)\n",
    "if s<chiscore:\n",
    "    print(\"Accept H0\")\n",
    "    print(\"Gender and voting is independent.\")\n",
    "else:\n",
    "    print(\"Reject H0\")\n",
    "    print(\"Gender and voting is NOT independent.\")"
   ]
  },
  {
   "cell_type": "markdown",
   "metadata": {},
   "source": [
    "A sample of 100 voters are asked which of four candidates they would vote for in an\n",
    "election. The number supporting each candidate is given below:\n",
    "\n",
    "Do the data suggest that all candidates are equally popular? [Chi-Square = 14.96,\n",
    "with 3 df, p 0.05 ."
   ]
  },
  {
   "cell_type": "code",
   "execution_count": 5,
   "metadata": {},
   "outputs": [
    {
     "name": "stdout",
     "output_type": "stream",
     "text": [
      "chi square value 14.959999999999999\n",
      "chi score 7.814727903251179\n",
      "Reject H0\n",
      "All candidates are not equally popular\n"
     ]
    }
   ],
   "source": [
    "#H0: All candidates are equally popular\n",
    "#H1: All candidates are not equally popular\n",
    "d=100\n",
    "n=4\n",
    "E=d/n   #expected frequency of each number\n",
    "s=0\n",
    "occur=[41,19,24,16]\n",
    "for i in occur:\n",
    "    s1=i-E\n",
    "    s2=s1*s1\n",
    "    s2=s2/E\n",
    "    s=s+s2\n",
    "print(\"chi square value\",s)\n",
    "dof=n-1\n",
    "sig=0.05\n",
    "chiscore=scipy.stats.chi2.ppf(1-sig, dof)\n",
    "print(\"chi score\",chiscore)\n",
    "if s<chiscore:\n",
    "    print(\"Accept H0\")\n",
    "    print(\"All candidates are equally popular\")\n",
    "else:\n",
    "    print(\"Reject H0\")\n",
    "    print(\"All candidates are not equally popular\")"
   ]
  },
  {
   "cell_type": "markdown",
   "metadata": {},
   "source": [
    "Children of three ages are asked to indicate their preference for three photographs of\n",
    "adults. Do the data suggest that there is a significant relationship between age and\n",
    "photograph preference? What is wrong with this study? [Chi-Square = 29.6, with 4\n",
    "df: p < 0.05]."
   ]
  },
  {
   "cell_type": "code",
   "execution_count": 2,
   "metadata": {},
   "outputs": [
    {
     "name": "stdout",
     "output_type": "stream",
     "text": [
      "[[18 22 20]\n",
      " [ 2 28 40]\n",
      " [20 10 40]]\n",
      "200\n",
      "[[12.0, 18.0, 30.0], [14.0, 21.0, 35.0], [14.0, 21.0, 35.0]]\n",
      "<class 'list'>\n",
      "<class 'numpy.ndarray'>\n",
      "Chi square value 29.603174603174608\n",
      "4\n",
      "chi score 18.46682695290317\n",
      "Reject H0\n",
      "that there is No significant relationship between age and photograph preference\n"
     ]
    }
   ],
   "source": [
    "#H0: that there is a significant relationship between age and photograph preference\n",
    "#H1: that there is no significant relationship between age and photograph preference?\n",
    "#Chi square test\n",
    "import numpy as np\n",
    "A = np.array([[18,22,20],[2,28,40],[20,10,40]])\n",
    "print(A)\n",
    "colsum=(np.sum(A,axis=0))\n",
    "rowsum=(np.sum(A,axis=1))\n",
    "tot=np.sum(colsum)\n",
    "print(tot)\n",
    "E=[]\n",
    "for i in rowsum:\n",
    "    a=[]\n",
    "    for j in colsum:\n",
    "        v=i*j/tot\n",
    "        a.append(v)\n",
    "    E.append(a)\n",
    "print(E)\n",
    "print(type(E))\n",
    "print(type(A))\n",
    "s=0\n",
    "for i in range(len(A)):\n",
    "    for j in range(len(A[0])):\n",
    "        temp=(A[i][j]-E[i][j])**2\n",
    "        t1=temp/E[i][j]\n",
    "        s=s+t1\n",
    "print(\"Chi square value\",s)    \n",
    "df=(len(rowsum)-1)*(len(colsum)-1)\n",
    "print(df)\n",
    "sig=0.001\n",
    "import scipy.stats\n",
    "chiscore=scipy.stats.chi2.ppf(1-sig, df)\n",
    "print(\"chi score\",chiscore)\n",
    "if s<chiscore:\n",
    "    print(\"Accept H0\")\n",
    "    print(\"that there is a significant relationship between age and photograph preference\")\n",
    "else:\n",
    "    print(\"Reject H0\")\n",
    "    print(\"that there is No significant relationship between age and photograph preference\")"
   ]
  },
  {
   "cell_type": "markdown",
   "metadata": {},
   "source": [
    "Problem Statement 21:\n",
    "\n",
    "A study of conformity using the Asch paradigm involved two conditions: one where\n",
    "one confederate supported the true judgement and another where no confederate\n",
    "gave the correct response.\n",
    "\n",
    "Is there a significant difference between the \"support\" and \"no support\" conditions in the\n",
    "frequency with which individuals are likely to conform? [Chi-Square = 19.87, with 1 df:\n",
    "p < 0.05]."
   ]
  },
  {
   "cell_type": "code",
   "execution_count": 4,
   "metadata": {},
   "outputs": [
    {
     "name": "stdout",
     "output_type": "stream",
     "text": [
      "[[18 40]\n",
      " [32 10]]\n",
      "100\n",
      "[50 50]\n",
      "[[29.0, 29.0], [21.0, 21.0]]\n",
      "Chi square value 18.10344827586207\n",
      "1\n",
      "chi score 10.827566170662733\n",
      "Reject H0\n",
      "there is a significant difference between the support and no support conditions\n"
     ]
    }
   ],
   "source": [
    "#H0: there a significant difference between the \"support\" and \"no support\" conditions\n",
    "#H1: there NO significant difference between the \"support\" and \"no support\" conditions\n",
    "#Chi square test\n",
    "import numpy as np\n",
    "A = np.array([[18,40],[32,10]])\n",
    "print(A)\n",
    "colsum=(np.sum(A,axis=0))\n",
    "rowsum=(np.sum(A,axis=1))\n",
    "tot=np.sum(colsum)\n",
    "print(tot)\n",
    "print(colsum)\n",
    "E=[]\n",
    "for i in rowsum:\n",
    "    a=[]\n",
    "    for j in colsum:\n",
    "        v=i*j/tot\n",
    "        a.append(v)\n",
    "    E.append(a)\n",
    "print(E)\n",
    "y=0.5\n",
    "s=0\n",
    "for i in range(len(A)):\n",
    "    for j in range(len(A[0])):\n",
    "        temp=abs((A[i][j]-E[i][j]))-y\n",
    "        temp1=temp**2\n",
    "        t1=temp1/E[i][j]\n",
    "        s=s+t1\n",
    "print(\"Chi square value\",s)    \n",
    "dof=(len(rowsum)-1)*(len(colsum)-1)\n",
    "print(dof)\n",
    "sig=0.001\n",
    "import scipy.stats\n",
    "chiscore=scipy.stats.chi2.ppf(1-sig, dof)\n",
    "#chiscore=19.87\n",
    "print(\"chi score\",chiscore)\n",
    "if s<chiscore:\n",
    "    print(\"Accept H0\")\n",
    "    print(\"there is a significant difference between the support and no support conditions\")\n",
    "else:\n",
    "    print(\"Reject H0\")\n",
    "    print(\"there is a significant difference between the support and no support conditions\")"
   ]
  },
  {
   "cell_type": "markdown",
   "metadata": {},
   "source": [
    "We want to test whether short people differ with respect to their leadership qualities\n",
    "(Genghis Khan, Adolf Hitler and Napoleon were all stature-deprived, and how many midget\n",
    "MP's are there?) The following table shows the frequencies with which 43 short people and\n",
    "52 tall people were categorized as \"leaders\", \"followers\" or as \"unclassifiable\". Is there a\n",
    "relationship between height and leadership qualities?\n",
    "[Chi-Square = 10.71, with 2 df: p < 0.01]."
   ]
  },
  {
   "cell_type": "code",
   "execution_count": 6,
   "metadata": {},
   "outputs": [
    {
     "name": "stdout",
     "output_type": "stream",
     "text": [
      "[[12 32]\n",
      " [22 14]\n",
      " [ 9  6]]\n",
      "95\n",
      "[[19.91578947368421, 24.08421052631579], [16.294736842105262, 19.705263157894738], [6.7894736842105265, 8.210526315789474]]\n",
      "<class 'list'>\n",
      "<class 'numpy.ndarray'>\n",
      "Chi square value 10.712198008709638\n",
      "2\n",
      "chi score 9.21034037197618\n",
      "Reject H0\n",
      "that there is No  a relationship between height and leadership qualities. \n"
     ]
    }
   ],
   "source": [
    "import numpy as np\n",
    "A = np.array([[12,32],[22,14],[9,6]])\n",
    "print(A)\n",
    "colsum=(np.sum(A,axis=0))\n",
    "rowsum=(np.sum(A,axis=1))\n",
    "tot=np.sum(colsum)\n",
    "print(tot)\n",
    "E=[]\n",
    "for i in rowsum:\n",
    "    a=[]\n",
    "    for j in colsum:\n",
    "        v=i*j/tot\n",
    "        a.append(v)\n",
    "    E.append(a)\n",
    "print(E)\n",
    "print(type(E))\n",
    "print(type(A))\n",
    "s=0\n",
    "for i in range(len(A)):\n",
    "    for j in range(len(A[0])):\n",
    "        temp=(A[i][j]-E[i][j])**2\n",
    "        t1=temp/E[i][j]\n",
    "        s=s+t1\n",
    "print(\"Chi square value\",s) \n",
    "df=(len(rowsum)-1)*(len(colsum)-1)\n",
    "print(df)\n",
    "sig=0.01\n",
    "import scipy.stats\n",
    "chiscore=scipy.stats.chi2.ppf(1-sig, df)\n",
    "\n",
    "print(\"chi score\",chiscore)\n",
    "if s<chiscore:\n",
    "    print(\"Accept H0\")\n",
    "    print(\"that there is  a relationship between height and leadership qualities. \")\n",
    "else:\n",
    "    print(\"Reject H0\")\n",
    "    print(\"that there is No  a relationship between height and leadership qualities. \")\n"
   ]
  },
  {
   "cell_type": "code",
   "execution_count": null,
   "metadata": {},
   "outputs": [],
   "source": [
    "Each respondent in the Current Population Survey of March 1993 was classified as\n",
    "employed, unemployed, or outside the labor force. The results for men in California age 35-\n",
    "44 can be cross-tabulated by marital status, as follows:\n",
    "    Men of different marital status seem to have different distributions of labor force status. Or is\n",
    "this just chance variation? (you may assume the table results from a simple random\n",
    "sample.)"
   ]
  },
  {
   "cell_type": "code",
   "execution_count": 7,
   "metadata": {},
   "outputs": [
    {
     "name": "stdout",
     "output_type": "stream",
     "text": [
      "[[679 103 114]\n",
      " [ 63  10  20]\n",
      " [ 42  18  25]]\n",
      "1074\n",
      "[[654.0633147113595, 109.28864059590316, 132.64804469273744], [67.88826815642459, 11.343575418994414, 13.768156424581006], [62.04841713221602, 10.36778398510242, 12.583798882681565]]\n",
      "<class 'list'>\n",
      "<class 'numpy.ndarray'>\n",
      "Chi square value 31.61310319407798\n",
      "4\n",
      "chi score 9.487729036781154\n",
      "Reject H0\n",
      "that there is No  a relationship between height and leadership qualities. \n"
     ]
    }
   ],
   "source": [
    "import numpy as np\n",
    "A = np.array([[ 679,103,114 ],[63,10,20],[42,18,25]])\n",
    "print(A)\n",
    "colsum=(np.sum(A,axis=0))\n",
    "rowsum=(np.sum(A,axis=1))\n",
    "tot=np.sum(colsum)\n",
    "print(tot)\n",
    "E=[]\n",
    "\n",
    "for i in rowsum:\n",
    "    a=[]\n",
    "    for j in colsum:\n",
    "        v=i*j/tot\n",
    "        a.append(v)\n",
    "    E.append(a)\n",
    "print(E)\n",
    "print(type(E))\n",
    "print(type(A))\n",
    "s=0\n",
    "for i in range(len(A)):\n",
    "    for j in range(len(A[0])):\n",
    "        temp=(A[i][j]-E[i][j])**2\n",
    "        t1=temp/E[i][j]\n",
    "        s=s+t1\n",
    "print(\"Chi square value\",s) \n",
    "df=(len(rowsum)-1)*(len(colsum)-1)\n",
    "print(df)\n",
    "sig=0.05\n",
    "import scipy.stats\n",
    "chiscore=scipy.stats.chi2.ppf(1-sig, df)\n",
    "\n",
    "print(\"chi score\",chiscore)\n",
    "if s<chiscore:\n",
    "    print(\"Accept H0\")\n",
    "    print(\"that there is  a relationship between height and leadership qualities. \")\n",
    "else:\n",
    "    print(\"Reject H0\")\n",
    "    print(\"that there is No  a relationship between height and leadership qualities. \")"
   ]
  },
  {
   "cell_type": "markdown",
   "metadata": {},
   "source": [
    "7: Fill in the blank spaces:\n",
    "        "
   ]
  },
  {
   "cell_type": "code",
   "execution_count": 37,
   "metadata": {},
   "outputs": [
    {
     "name": "stdout",
     "output_type": "stream",
     "text": [
      "alpha beta @ u=52 beta @u=50.5 0.057779571123597204 0.26353985497284643 0.8913423764409649\n",
      "alpha beta @ u=48 beta @u=52 0.011412036386001651 0.4999997899803012 0.9703275133092002\n",
      "alpha beta @ u=48.81 beta @u=51.9 0.02963798283446237 0.4364403708344303 0.9840290241059673\n",
      "alpha beta @ u=48.82 beta @u=51.8 0.007724093453430432 0.37448416019559994 0.9807998742327454\n"
     ]
    }
   ],
   "source": [
    "x1=48.5\n",
    "x2=51.5\n",
    "u=50\n",
    "#assume \n",
    "sd=2.5\n",
    "n=10\n",
    "import math\n",
    "den=sd/(math.sqrt(n))\n",
    "z1=(x1-u)/den\n",
    "z2=(x2-u)/den\n",
    "import scipy.stats as st\n",
    "zscore1=st.norm.cdf(z1)\n",
    "zscore2=st.norm.cdf(-z2)\n",
    "zscore=zscore1+zscore2\n",
    "u11=52\n",
    "z11=(x1-u11)/den\n",
    "z22=(x2-u11)/den\n",
    "zscore11=st.norm.cdf(z11)\n",
    "zscore22=st.norm.cdf(z22)\n",
    "beta1=zscore22-zscore11\n",
    "u22=50.5\n",
    "z11=(x1-u22)/den\n",
    "z22=(x2-u22)/den\n",
    "zscore11=st.norm.cdf(z11)\n",
    "zscore22=st.norm.cdf(z22)\n",
    "beta2=zscore22-zscore11\n",
    "print(\"alpha beta @ u=52 beta @u=50.5\",zscore,beta1,beta2)\n",
    "\n",
    "x1=48\n",
    "x2=52\n",
    "u=50\n",
    "#assume \n",
    "sd=2.5\n",
    "n=10\n",
    "import math\n",
    "den=sd/(math.sqrt(n))\n",
    "z1=(x1-u)/den\n",
    "z2=(x2-u)/den\n",
    "import scipy.stats as st\n",
    "zscore1=st.norm.cdf(z1)\n",
    "zscore2=st.norm.cdf(-z2)\n",
    "zscore=zscore1+zscore2\n",
    "u11=52\n",
    "z11=(x1-u11)/den\n",
    "z22=(x2-u11)/den\n",
    "zscore11=st.norm.cdf(z11)\n",
    "zscore22=st.norm.cdf(z22)\n",
    "beta1=zscore22-zscore11\n",
    "u22=50.5\n",
    "z11=(x1-u22)/den\n",
    "z22=(x2-u22)/den\n",
    "zscore11=st.norm.cdf(z11)\n",
    "zscore22=st.norm.cdf(z22)\n",
    "beta2=zscore22-zscore11\n",
    "print(\"alpha beta @ u=48 beta @u=52\",zscore,beta1,beta2)\n",
    "x1=48.81\n",
    "x2=51.9\n",
    "u=50\n",
    "#assume \n",
    "sd=2.5\n",
    "n=16\n",
    "import math\n",
    "den=sd/(math.sqrt(n))\n",
    "z1=(x1-u)/den\n",
    "z2=(x2-u)/den\n",
    "import scipy.stats as st\n",
    "zscore1=st.norm.cdf(z1)\n",
    "zscore2=st.norm.cdf(-z2)\n",
    "zscore=zscore1+zscore2\n",
    "u11=52\n",
    "z11=(x1-u11)/den\n",
    "z22=(x2-u11)/den\n",
    "zscore11=st.norm.cdf(z11)\n",
    "zscore22=st.norm.cdf(z22)\n",
    "beta1=zscore22-zscore11\n",
    "u22=50.5\n",
    "z11=(x1-u22)/den\n",
    "z22=(x2-u22)/den\n",
    "zscore11=st.norm.cdf(z11)\n",
    "zscore22=st.norm.cdf(z22)\n",
    "beta2=zscore22-zscore11\n",
    "print(\"alpha beta @ u=48.81 beta @u=51.9\",zscore,beta1,beta2)\n",
    "x1=48.42\n",
    "x2=51.8\n",
    "u=50\n",
    "#assume \n",
    "sd=2.5\n",
    "n=16\n",
    "import math\n",
    "den=sd/(math.sqrt(n))\n",
    "z1=(x1-u)/den\n",
    "z2=(x2-u)/den\n",
    "import scipy.stats as st\n",
    "zscore1=st.norm.cdf(z1)\n",
    "zscore2=st.norm.cdf(-z2)\n",
    "zscore=zscore1+zscore2\n",
    "u11=52\n",
    "z11=(x1-u11)/den\n",
    "z22=(x2-u11)/den\n",
    "zscore11=st.norm.cdf(z11)\n",
    "zscore22=st.norm.cdf(z22)\n",
    "beta1=zscore22-zscore11\n",
    "u22=50.5\n",
    "z11=(x1-u22)/den\n",
    "z22=(x2-u22)/den\n",
    "zscore11=st.norm.cdf(z11)\n",
    "zscore22=st.norm.cdf(z22)\n",
    "beta2=zscore22-zscore11\n",
    "print(\"alpha beta @ u=48.82 beta @u=51.8\",zscore,beta1,beta2)"
   ]
  },
  {
   "cell_type": "code",
   "execution_count": 36,
   "metadata": {},
   "outputs": [
    {
     "name": "stdout",
     "output_type": "stream",
     "text": [
      "1.0606601717798212\n"
     ]
    }
   ],
   "source": [
    "import statistics \n",
    "x=[52,50.5]\n",
    "a=statistics.stdev(x)\n",
    "print(a)"
   ]
  },
  {
   "cell_type": "code",
   "execution_count": 31,
   "metadata": {},
   "outputs": [
    {
     "name": "stdout",
     "output_type": "stream",
     "text": [
      "alpha beta @ u=48.82 beta @u=51.8 0.002567302271521386 0.3580647843899773 0.9908738737626397\n"
     ]
    }
   ],
   "source": []
  },
  {
   "cell_type": "code",
   "execution_count": null,
   "metadata": {},
   "outputs": [],
   "source": []
  }
 ],
 "metadata": {
  "kernelspec": {
   "display_name": "Python 3",
   "language": "python",
   "name": "python3"
  },
  "language_info": {
   "codemirror_mode": {
    "name": "ipython",
    "version": 3
   },
   "file_extension": ".py",
   "mimetype": "text/x-python",
   "name": "python",
   "nbconvert_exporter": "python",
   "pygments_lexer": "ipython3",
   "version": "3.7.6"
  }
 },
 "nbformat": 4,
 "nbformat_minor": 4
}
