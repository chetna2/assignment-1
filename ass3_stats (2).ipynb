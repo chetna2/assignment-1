{
 "cells": [
  {
   "cell_type": "markdown",
   "metadata": {},
   "source": [
    "Blood glucose levels for obese patients have a mean of 100 with a standard deviation of\n",
    "15. A researcher thinks that a diet high in raw cornstarch will have a positive effect on\n",
    "blood glucose levels. A sample of 36 patients who have tried the raw cornstarch diet\n",
    "have a mean glucose level of 108. Test the hypothesis that the raw cornstarch had an\n",
    "effect or not."
   ]
  },
  {
   "cell_type": "code",
   "execution_count": 9,
   "metadata": {},
   "outputs": [
    {
     "name": "stdout",
     "output_type": "stream",
     "text": [
      "Z test value 3.2\n",
      "z critical 1.959963984540054\n",
      "We reject Null hypothesis with Ho:\n",
      "the raw cornstarch had an effect 100\n",
      "p value 0.9993128620620841\n"
     ]
    }
   ],
   "source": [
    "pop_mean=100\n",
    "pop_sd=15\n",
    "n=36\n",
    "sam_mean=108\n",
    "#H0: u=100\n",
    "#H1: u is not equal to 100\n",
    "sig=0.05\n",
    "import math\n",
    "n1=math.sqrt(n)\n",
    "n2=pop_sd/n1\n",
    "Z=(sam_mean-pop_mean)/n2\n",
    "print(\"Z test value\",Z)\n",
    "import scipy.stats as st\n",
    "alpha=1-sig/2\n",
    "zc=st.norm.ppf(alpha)\n",
    "print(\"z critical\",zc)\n",
    "# p value for z test value is found looking at z table\n",
    "#3.20 is at left, o for column, p vaue=0.9993\n",
    "#  probability of having value less than 108 is 0.9993 and more than or equals to 108 is (1-0.9993)=0.0007.\n",
    "#It is less than 0.05 so we will reject the Null hypothesis i.e. there is raw cornstarch effect.\n",
    "#Setting significance level can also be done using z-value known as critical value. Find out the z- value of 5% probability and it is 1.65 (positive or negative, in any direction). \n",
    "#Now we can compare calculated z-value with critical value to make a decision.\n",
    "\n",
    "if -zc< Z<zc:\n",
    "    print(\"We accept Null hypothesis with Ho:\")\n",
    "    print(\"the raw cornstarch had no effect\",pop_mean)\n",
    "else:\n",
    "    print(\"We reject Null hypothesis with Ho:\")\n",
    "    print(\"the raw cornstarch had an effect\",pop_mean)\n",
    "    \n",
    "import scipy.stats as st        # 2 tail test\n",
    "p=st.norm.cdf(Z)               #compute p value corresponding to Z test value\n",
    "print(\"p value\",p)\n"
   ]
  },
  {
   "cell_type": "markdown",
   "metadata": {},
   "source": [
    "In one state, 52% of the voters are Republicans, and 48% are Democrats. In a second\n",
    "state, 47% of the voters are Republicans, and 53% are Democrats. Suppose a simple\n",
    "random sample of 100 voters are surveyed from each state.\n",
    "What is the probability that the survey will show a greater percentage of Republican\n",
    "voters in the second state than in the first state?"
   ]
  },
  {
   "cell_type": "code",
   "execution_count": 14,
   "metadata": {},
   "outputs": [
    {
     "name": "stdout",
     "output_type": "stream",
     "text": [
      "Sample size is big enoguh\n",
      "Standard Deviation 0.07061869440877536\n",
      "Zscore -0.7080278164104207\n",
      "p value 0.2394639918222003\n",
      "Therefore, the probability that the survey will show a greater percentage of Republican voters in the second state than in the first state is  0.2394639918222003\n"
     ]
    }
   ],
   "source": [
    "# P1 = the proportion of Republican voters in the first state,\n",
    "#P2 = the proportion of Republican voters in the second state, \n",
    "#p1 = the proportion of Republican voters in the sample from the first state, and \n",
    "#p2 = the proportion of Republican voters in the sample from the second state.\n",
    "#The number of voters sampled from the first state (n1) = 100,\n",
    "#and the number of voters sampled from the second state (n2) = 100.\n",
    "n1=100\n",
    "n2=100\n",
    "P1=0.52\n",
    "P2=0.47\n",
    "n1P1=n1*P1\n",
    "nP1=n1*(1-P1)\n",
    "n2P2=n2*P2\n",
    "nP2=n2*(1-P2)\n",
    "if n1P1>10 and nP1>10:\n",
    "    if n2P2>10 and nP2>10:\n",
    "        print(\"Sample size is big enoguh\")\n",
    "E=(P1-P2)\n",
    "#Find standard deviation\n",
    "# σd = sqrt{ [ P1(1 - P1) / n1 ] + [ P2(1 - P2) / n2 ] }\n",
    "import math\n",
    "v1=P1*(1-P1)/n1\n",
    "v2=P2*(1-P2)/n2\n",
    "sd=math.sqrt(v1+v2)\n",
    "print(\"Standard Deviation\", sd)\n",
    "# This problem requires us to find the probability that p1 is less than p2.\n",
    "#This is equivalent to finding the probability that p1 - p2 is less than zero. \n",
    "#To find this probability, we need to transform the random variable (p1 - p2) into a z-score.\n",
    "#z p1 - p2 = (x - μ p1 - p2 ) / σd \n",
    "\n",
    "zscore=(0-0.05)/sd\n",
    "print(\"Zscore\",zscore)\n",
    "\n",
    "#p-value\n",
    "import scipy.stats as st        # 2 tail test\n",
    "p=st.norm.cdf(zscore)               #compute p value corresponding to Z test value\n",
    "print(\"p value\",p)\n",
    "print(\"Therefore, the probability that the survey will show a greater percentage of Republican voters in the second state than in the first state is \",p)"
   ]
  },
  {
   "cell_type": "markdown",
   "metadata": {},
   "source": [
    "You take the SAT and score 1100. The mean score for the SAT is 1026 and the standard\n",
    "deviation is 209. How well did you score on the test compared to the average test taker?"
   ]
  },
  {
   "cell_type": "code",
   "execution_count": 17,
   "metadata": {},
   "outputs": [
    {
     "name": "stdout",
     "output_type": "stream",
     "text": [
      "Zscore:your score on the test compared to the average test taker 0.35406698564593303\n",
      "Your score was above the mean by 0.35406698564593303\n",
      "p value 0.6383556584353189\n",
      " The percentage of test-takers scored below you. 0.6383556584353189\n"
     ]
    }
   ],
   "source": [
    "#Z=(X-u)/sd\n",
    "X=1100\n",
    "u=1026\n",
    "sd=209\n",
    "Z=(X-u)/sd\n",
    "print(\"Zscore:your score on the test compared to the average test taker\",Z)\n",
    "print(\"Your score was above the mean by\",Z)\n",
    "import scipy.stats as st        # 2 tail test\n",
    "p=st.norm.cdf(Z)               #compute p value corresponding to Z test value\n",
    "print(\"p value\",p)\n",
    "print(\" The percentage of test-takers scored below you.\",p)"
   ]
  },
  {
   "cell_type": "code",
   "execution_count": null,
   "metadata": {},
   "outputs": [],
   "source": []
  }
 ],
 "metadata": {
  "kernelspec": {
   "display_name": "Python 3",
   "language": "python",
   "name": "python3"
  },
  "language_info": {
   "codemirror_mode": {
    "name": "ipython",
    "version": 3
   },
   "file_extension": ".py",
   "mimetype": "text/x-python",
   "name": "python",
   "nbconvert_exporter": "python",
   "pygments_lexer": "ipython3",
   "version": "3.7.6"
  }
 },
 "nbformat": 4,
 "nbformat_minor": 4
}
