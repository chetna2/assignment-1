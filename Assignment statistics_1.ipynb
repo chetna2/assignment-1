{
 "cells": [
  {
   "cell_type": "markdown",
   "metadata": {},
   "source": [
    "1. The marks awarded for an assignment set for a Year 8 class of 20 students were as  follows: \n",
    "6 7 5 7 7 8 7 6 9 7 4 10 6 8 8 9 5 6 4 8 \n"
   ]
  },
  {
   "cell_type": "code",
   "execution_count": 11,
   "metadata": {},
   "outputs": [],
   "source": [
    "l=[6,7,5,7,7, 8, 7, 6, 9, 7, 4, 10, 6, 8, 8, 9, 5, 6, 4, 8 ]"
   ]
  },
  {
   "cell_type": "code",
   "execution_count": 21,
   "metadata": {},
   "outputs": [],
   "source": [
    "from statistics import mode,median,mean"
   ]
  },
  {
   "cell_type": "code",
   "execution_count": 22,
   "metadata": {},
   "outputs": [],
   "source": [
    "m1=mean(l)"
   ]
  },
  {
   "cell_type": "code",
   "execution_count": 23,
   "metadata": {},
   "outputs": [],
   "source": [
    "m2=median(l)"
   ]
  },
  {
   "cell_type": "code",
   "execution_count": 24,
   "metadata": {},
   "outputs": [],
   "source": [
    "m3=mode(l)"
   ]
  },
  {
   "cell_type": "code",
   "execution_count": 108,
   "metadata": {},
   "outputs": [
    {
     "data": {
      "text/plain": [
       "1.5898113095584647"
      ]
     },
     "execution_count": 108,
     "metadata": {},
     "output_type": "execute_result"
    }
   ],
   "source": [
    "import numpy as np\n",
    "sd=np.std(l)\n",
    "sd"
   ]
  },
  {
   "cell_type": "code",
   "execution_count": 109,
   "metadata": {},
   "outputs": [
    {
     "name": "stdout",
     "output_type": "stream",
     "text": [
      "Mean, Median, Mode, standard deviation of given data are: 6.85 7.0 7 1.5898113095584647\n"
     ]
    }
   ],
   "source": [
    "print(\"Mean, Median, Mode, standard deviation of given data are:\", m1, m2, m3,sd)"
   ]
  },
  {
   "cell_type": "markdown",
   "metadata": {},
   "source": [
    "2. The number of calls from motorists per day for roadside service was recorded for a  particular month: \n",
    "28, 122, 217, 130, 120, 86, 80, 90, 140, 120, 70, 40, 145, 113, 90, 68, 174, 194, 170,  100, 75, 104, 97, 75, \n",
    "123, 100, 75, 104, 97, 75, 123, 100, 89, 120, 109 \n"
   ]
  },
  {
   "cell_type": "code",
   "execution_count": 33,
   "metadata": {},
   "outputs": [],
   "source": [
    "no=[28, 122, 217, 130, 120, 86, 80, 90, 140, 120, 70, 40, 145, 113, 90, 68, 174, 194, 170,  100, 75, 104, 97, 75, \n",
    "123, 100, 75, 104, 97, 75, 123, 100, 89, 120, 109]"
   ]
  },
  {
   "cell_type": "code",
   "execution_count": 35,
   "metadata": {},
   "outputs": [
    {
     "name": "stdout",
     "output_type": "stream",
     "text": [
      "Mean: 107.51428571428572\n"
     ]
    }
   ],
   "source": [
    "print(\"Mean:\",mean(no))"
   ]
  },
  {
   "cell_type": "code",
   "execution_count": 37,
   "metadata": {},
   "outputs": [
    {
     "name": "stdout",
     "output_type": "stream",
     "text": [
      "Median: 100\n"
     ]
    }
   ],
   "source": [
    "print(\"Median:\",median(no))"
   ]
  },
  {
   "cell_type": "code",
   "execution_count": 39,
   "metadata": {},
   "outputs": [
    {
     "name": "stdout",
     "output_type": "stream",
     "text": [
      "Mode: 75\n"
     ]
    }
   ],
   "source": [
    "print(\"Mode:\",mode(no))"
   ]
  },
  {
   "cell_type": "code",
   "execution_count": 110,
   "metadata": {},
   "outputs": [
    {
     "name": "stdout",
     "output_type": "stream",
     "text": [
      "Standard Deviation: 38.77287080168403\n"
     ]
    }
   ],
   "source": [
    "print(\"Standard Deviation:\",np.std(no))"
   ]
  },
  {
   "cell_type": "markdown",
   "metadata": {},
   "source": [
    "3. The number of times I go to the gym in weekdays, are given below along with its  associated probability: \n",
    "x = 0, 1, 2, 3, 4, 5 \n",
    "f(x) = 0.09, 0.15, 0.40, 0.25, 0.10, 0.01 \n",
    "Calculate the mean no. of workouts in a week. Also evaluate the variance involved in  it. \n"
   ]
  },
  {
   "cell_type": "code",
   "execution_count": 48,
   "metadata": {},
   "outputs": [],
   "source": []
  },
  {
   "cell_type": "code",
   "execution_count": 44,
   "metadata": {},
   "outputs": [],
   "source": [
    "import numpy as np"
   ]
  },
  {
   "cell_type": "code",
   "execution_count": 60,
   "metadata": {},
   "outputs": [
    {
     "name": "stdout",
     "output_type": "stream",
     "text": [
      "Mean of workout is: 2.15\n",
      "Variance of workout is: 1.2275\n"
     ]
    }
   ],
   "source": [
    "x=[0,1,2,3,4,5]\n",
    "f1=[0.09,0.15,0.40,0.25,0.10,0.01]\n",
    "n=0\n",
    "for i in x:\n",
    "    n1=(x[i]*f1[i])\n",
    "    n=n+n1\n",
    "print(\"Mean of workout is:\",n)    \n",
    "new_list2=[]\n",
    "v=0\n",
    "for i in x:\n",
    "    d=(x[i]-n)\n",
    "    s=d*d\n",
    "    n1=s*f1[i]\n",
    "    v=v+n1\n",
    "print(\"Variance of workout is:\",v)  "
   ]
  },
  {
   "cell_type": "markdown",
   "metadata": {},
   "source": [
    " 4.  Let the continuous random variable D denote the diameter of the hole drilled in an  aluminum sheet.\n",
    "    The target diameter to be achieved is 12.5mm. Random  disturbances in the process often result in inaccuracy. \n",
    "Historical data shows that the distribution of D can be modelled by the PDF (d) =  20e−20(d-12.5), d ≥ 12.5. \n",
    "If a part with diameter > 12.6 mm needs to be scrapped,  what is the proportion of those parts? \n",
    "What is the CDF when the diameter is of 11  mm? What is your conclusion regarding the proportion of scraps?"
   ]
  },
  {
   "cell_type": "code",
   "execution_count": 77,
   "metadata": {},
   "outputs": [],
   "source": [
    "from scipy import integrate"
   ]
  },
  {
   "cell_type": "code",
   "execution_count": 10,
   "metadata": {},
   "outputs": [
    {
     "name": "stdout",
     "output_type": "stream",
     "text": [
      "The proportion of parts 0.13533528323661365\n"
     ]
    },
    {
     "data": {
      "text/plain": [
       "1.0"
      ]
     },
     "execution_count": 10,
     "metadata": {},
     "output_type": "execute_result"
    }
   ],
   "source": [
    "from scipy.stats import norm\n",
    "from numpy import exp\n",
    "#prob such that X>12.60\n",
    "x=12.60\n",
    "p=-20*(x-12.5)\n",
    "p1=exp(p)\n",
    "print(\"The proportion of parts\",p1)\n",
    "x=11\n",
    "p11=norm.cdf(x)\n",
    "print(\"cdf when diameter=11\",p11)"
   ]
  },
  {
   "cell_type": "markdown",
   "metadata": {},
   "source": [
    "5. A company manufactures LED bulbs with a faulty rate of 30%. If I randomly select 6  chosen LEDs,\n",
    "what is the probability of having 2 faulty LEDs in my sample?  Calculate the average value of this process.\n",
    "Also evaluate the standard deviation  associated with it. \n"
   ]
  },
  {
   "cell_type": "code",
   "execution_count": 2,
   "metadata": {},
   "outputs": [
    {
     "name": "stdout",
     "output_type": "stream",
     "text": [
      "probability of having 2 faulty LEDS  0.26778419891897026\n",
      "Average  1.8\n",
      "Standard deviaton 1.3416407864998738\n"
     ]
    }
   ],
   "source": [
    "import math\n",
    "r=.3*6\n",
    "m=math.exp(-r)\n",
    "v=(1.8*1.8)/math.factorial(2)\n",
    "p=m*v\n",
    "print(\"probability of having 2 faulty LEDS \",p)\n",
    "avg=6*30/100\n",
    "print(\"Average \",avg)\n",
    "\n",
    "sd=math.sqrt(avg)\n",
    "print(\"Standard deviaton\",sd)"
   ]
  },
  {
   "cell_type": "markdown",
   "metadata": {},
   "source": [
    "6. Gaurav and Barakha are both preparing for entrance exams. Gaurav attempts to  solve 8 questions per day with a correction rate of 75%, while Barakha averages  around 12 questions per day with a correction rate of 45%. What is the probability  that each of them will solve 5 questions correctly? What happens in cases of 4 and 6  correct solutions? What do you infer from it? What are the two main governing  factors affecting their ability to solve questions correctly? Give a pictorial  representation of the same to validate your answer. \n"
   ]
  },
  {
   "cell_type": "code",
   "execution_count": 1,
   "metadata": {},
   "outputs": [
    {
     "data": {
      "image/png": "[encoded data removed]",
      "text/plain": [
       "<Figure size 432x288 with 1 Axes>"
      ]
     },
     "metadata": {
      "needs_background": "light"
     },
     "output_type": "display_data"
    },
    {
     "data": {
      "image/png": "[encoded data removed]",
      "text/plain": [
       "<Figure size 432x288 with 1 Axes>"
      ]
     },
     "metadata": {
      "needs_background": "light"
     },
     "output_type": "display_data"
    }
   ],
   "source": [
    "from scipy.stats import binom\n",
    "import matplotlib.pyplot as plt\n",
    "# setting the values\n",
    "# of n and p\n",
    "n=8\n",
    "p=0.75\n",
    "\n",
    "\n",
    "# defining list of r values\n",
    "r_values = list(range(n + 1))\n",
    "# list of pmf values\n",
    "dist = [binom.pmf(r, n, p) for r in r_values ]\n",
    "# plotting the graph \n",
    "plt.bar(r_values, dist)\n",
    "plt.show()\n",
    "n=12\n",
    "p=0.45\n",
    "\n",
    "\n",
    "# defining list of r values\n",
    "r_values = list(range(n + 1))\n",
    "# list of pmf values\n",
    "dist = [binom.pmf(r, n, p) for r in r_values ]\n",
    "# plotting the graph \n",
    "plt.bar(r_values, dist)\n",
    "plt.show()"
   ]
  },
  {
   "cell_type": "markdown",
   "metadata": {},
   "source": [
    "7. Customers arrive at a rate of 72 per hour to my shop. What is the probability of k customers arriving in 4 minutes? a) 5 customers, b) not more than 3 customers, c)  more than 3 customers. Give a pictorial representation of the same to validate your  answer. \n"
   ]
  },
  {
   "cell_type": "code",
   "execution_count": null,
   "metadata": {},
   "outputs": [],
   "source": [
    "import math\n",
    "x=72/60    #customers in 1 min\n",
    "lam=4*x    #customers in 4 min\n",
    "#probability of 5 customers in 4 min\n",
    "p1=math.exp(-lam)\n",
    "p2=(lam)**5\n",
    "p3=math.factorial(5)\n",
    "p=(p2/p3)\n",
    "p=p1*p\n",
    "print(\"probability of 5 customers in 4 min\",p)\n",
    "#Probabilty of X<=3\n",
    "p1=math.exp(-lam)\n",
    "s=0\n",
    "for i in range(0,4):\n",
    "    p2=(lam)**i\n",
    "    p3=math.factorial(i)\n",
    "    p=(p2/p3)\n",
    "    s=s+p\n",
    "p=p1*s\n",
    "print(\"probability of less than 3 customers in 4 min\",p)\n",
    "#probability of X>3\n",
    "pg=1-p\n",
    "print(\"probability of less than 3 customers in 4 min\",pg)\n"
   ]
  },
  {
   "cell_type": "markdown",
   "metadata": {},
   "source": [
    "8. I work as a data analyst in Aeon Learning Pvt. Ltd. After analyzing data, I make  reports, where I have the efficiency of entering 77 words per minute with 6 errors per  hour. What is the probability that I will commit 2 errors in a 455-word financial report? What happens when the no. of words increases/decreases (in case of 1000 words,  255 words)?  \n",
    "How is the lamda affected? How does it influence the PMF?  \n",
    "Give a pictorial representation of the same to validate your answer.\n",
    "\n"
   ]
  },
  {
   "cell_type": "code",
   "execution_count": 10,
   "metadata": {},
   "outputs": [
    {
     "name": "stdout",
     "output_type": "stream",
     "text": [
      "The probability to commit 2 errors in 455 words 0.09669027375144446\n",
      "The probability to commit 2 errors in 1000 words 0.23012815007300153\n",
      "The probability to commit 2 errors in 255 words 0.039377135392854104\n"
     ]
    }
   ],
   "source": [
    "import math\n",
    "wpm=77              #given words per minute\n",
    "wph=wpm*60          #as  1hr=60 min   word per hour\n",
    "eph=6               #given, error per hour\n",
    "epw=eph/wph         #error per hour\n",
    "words=455\n",
    "lam=epw*words\n",
    "p1=math.exp(-lam)\n",
    "p2=(lam)**2\n",
    "p3=math.factorial(2)\n",
    "p=(p2/p3)\n",
    "p=p1*p\n",
    "print(\"The probability to commit 2 errors in 455 words\",p)\n",
    "now=1000          #1000 words\n",
    "lam= epw*now\n",
    "p1=math.exp(-lam)\n",
    "p2=(lam)**2\n",
    "p3=math.factorial(2)\n",
    "p=(p2/p3)\n",
    "p=p1*p\n",
    "print(\"The probability to commit 2 errors in 1000 words\",p)\n",
    "now=255\n",
    "lam= epw*now\n",
    "p1=math.exp(-lam)\n",
    "p2=(lam)**2\n",
    "p3=math.factorial(2)\n",
    "p=(p2/p3)\n",
    "p=p1*p\n",
    "print(\"The probability to commit 2 errors in 255 words\",p)"
   ]
  },
  {
   "cell_type": "code",
   "execution_count": 13,
   "metadata": {},
   "outputs": [
    {
     "name": "stdout",
     "output_type": "stream",
     "text": [
      "The probability to commit 2 errors in words 0.09669027375144446\n",
      "The probability to commit 2 errors in words 0.23012815007300153\n",
      "The probability to commit 2 errors in words 0.039377135392854104\n"
     ]
    }
   ],
   "source": [
    "import math\n",
    "wpm=77              #given words per minute\n",
    "wph=wpm*60          #as  1hr=60 min   word per hour\n",
    "eph=6               #given, error per hour\n",
    "epw=eph/wph \n",
    "words=[455,1000,255]\n",
    "for i in words:\n",
    "    lam=epw*i\n",
    "    p1=math.exp(-lam)\n",
    "    p2=(lam)**2\n",
    "    p3=math.factorial(2)\n",
    "    p=(p2/p3)\n",
    "    p=p1*p\n",
    "    print(\"The probability to commit 2 errors in words\",p)\n"
   ]
  },
  {
   "cell_type": "markdown",
   "metadata": {},
   "source": [
    "9. Let the continuous random variable D denote the diameter of the hole drilled in an  aluminum sheet. The target diameter to be achieved is 12.5mm. Random  disturbances in the process often result in inaccuracy. \n",
    "Historical data shows that the distribution of D can be modelled by the PDF, f(d) =  20e−20(d−12.5), d ≥ 12.5. If a part with diameter > 12.6 mm needs to be scrapped,  what is the proportion of those parts? What is the CDF when the diameter is of 11  mm? \n",
    "What is the conclusion of this experiment?\n"
   ]
  },
  {
   "cell_type": "code",
   "execution_count": null,
   "metadata": {},
   "outputs": [],
   "source": [
    "from scipy.stats import norm\n",
    "from numpy import exp\n",
    "#prob such that X>12.60\n",
    "x=12.60\n",
    "p=-20*(x-12.5)\n",
    "p1=exp(p)\n",
    "print(\"The proportion of parts\",p1)\n",
    "x=11\n",
    "p11=norm.cdf(x)\n",
    "print(\"cdf when diameter=11\",p11)"
   ]
  },
  {
   "cell_type": "markdown",
   "metadata": {},
   "source": [
    "10. Please compute the following: \n",
    "a) P(Z > 1.26), . P(Z < −0.86), P(Z > −1.37), P(−1.25 < Z < 0.37), . P(Z ≤ −4.6) b) Find the value z such that P(Z>z) = 0.05 \n",
    "c) Find the value of z such that P(−z < Z < z) = 0.99 \n"
   ]
  },
  {
   "cell_type": "code",
   "execution_count": 30,
   "metadata": {},
   "outputs": [
    {
     "name": "stdout",
     "output_type": "stream",
     "text": [
      "P(Z>1.26): 0.10383468112130045\n",
      "P(Z<-0.8.6): 0.1948945212518084\n",
      "P(Z>-1.37): 0.914656549178033\n",
      "P(-1.25<Z<0.37): 0.5386589811336914\n",
      " The value z   1.6448536269514722\n",
      "Value is 2.3263478740408408\n"
     ]
    }
   ],
   "source": [
    "from scipy.stats import norm\n",
    "# 10 a i\n",
    "p=norm.cdf(1.26)\n",
    "print(\"P(Z>1.26):\",1-p)\n",
    "# 10  a ii\n",
    "p=norm.cdf(0.86)\n",
    "print(\"P(Z<-0.8.6):\",1-p)\n",
    "# 10 a iii\n",
    "p=norm.cdf(1.37)\n",
    "print(\"P(Z>-1.37):\",p)\n",
    "# 10 a iv\n",
    "p1=norm.cdf(0.37)\n",
    "p2=1-norm.cdf(1.25)\n",
    "print(\"P(-1.25<Z<0.37):\",p1-p2)\n",
    "# 10 b  P(Z>z) = 0.05\n",
    "p=1-0.05\n",
    "print(\" The value z  \",norm.ppf(p))\n",
    "#10 c P(−z < Z < z) = 0.99\n",
    "p=0.99\n",
    "print(\"Value is\",norm.ppf(p))"
   ]
  },
  {
   "cell_type": "markdown",
   "metadata": {},
   "source": [
    "11. The current flow in a copper wire follow a normal distribution with a mean of 10 mA  and a variance of 4 (mA)2.  \n",
    "What is the probability that a current measurement will exceed 13 mA? What is the  probability that a current measurement is between 9 and 11mA? Determine the  current measurement which has a probability of 0.98. \n"
   ]
  },
  {
   "cell_type": "code",
   "execution_count": 31,
   "metadata": {},
   "outputs": [
    {
     "name": "stdout",
     "output_type": "stream",
     "text": [
      "The  probability that a current measurement will exceed 13 mA 0.06680720126885809\n",
      "the probability that a current measurement is between 9 and 11mA 0.38292492254802624\n",
      " the current measurement which has a probability of 0.98: 2.0537489106318225\n"
     ]
    }
   ],
   "source": [
    "p1=1.5\n",
    "p1=norm.cdf(p1)\n",
    "p1=1-p1\n",
    "print(\"The  probability that a current measurement will exceed 13 mA\",p1 )\n",
    "p2=0.5\n",
    "p2=norm.cdf(p2)\n",
    "p3=1-p2\n",
    "print(\"the probability that a current measurement is between 9 and 11mA\",p2-p3)\n",
    "print(\" the current measurement which has a probability of 0.98:\",norm.ppf(0.98))"
   ]
  },
  {
   "cell_type": "markdown",
   "metadata": {},
   "source": [
    "12. The shaft in a piston has its diameter normally distributed with a mean of 0.2508 inch  and a standard deviation of 0.0005 inch. The specifications of the shaft are 0.2500 ∓ 0.0015 inch. What proportion of shafts are in sync with the specifications? If the  process is centered so that the mean is equal to the target value of 0.2500, what  proportion of shafts conform to the new specifications? What is your conclusion from  this experiment? \n"
   ]
  },
  {
   "cell_type": "code",
   "execution_count": 39,
   "metadata": {},
   "outputs": [
    {
     "name": "stdout",
     "output_type": "stream",
     "text": [
      "proportion of shafts are in sync with the specifications: 0.9192433407662225\n",
      "proportion of shafts conform to the new specifications 0.9988031736076055\n"
     ]
    }
   ],
   "source": [
    "p1=(0.2515-0.2508)/0.0005\n",
    "p2=(0.2485-0.2508)/0.0005\n",
    "p1=norm.cdf(p1)\n",
    "print(\"proportion of shafts are in sync with the specifications:\",p1-0)\n",
    "p1=(0.2515-.2500)\n",
    "p2=(0.2485-.2500)\n",
    "p1=norm.cdf(p1)\n",
    "p2=norm.cdf(p2)\n",
    "print(\"proportion of shafts conform to the new specifications\",1-(p1-p2))\n"
   ]
  },
  {
   "cell_type": "code",
   "execution_count": null,
   "metadata": {},
   "outputs": [],
   "source": []
  }
 ],
 "metadata": {
  "kernelspec": {
   "display_name": "Python 3",
   "language": "python",
   "name": "python3"
  },
  "language_info": {
   "codemirror_mode": {
    "name": "ipython",
    "version": 3
   },
   "file_extension": ".py",
   "mimetype": "text/x-python",
   "name": "python",
   "nbconvert_exporter": "python",
   "pygments_lexer": "ipython3",
   "version": "3.7.6"
  }
 },
 "nbformat": 4,
 "nbformat_minor": 4
}
