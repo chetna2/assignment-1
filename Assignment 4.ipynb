{
 "cells": [
  {
   "cell_type": "markdown",
   "metadata": {},
   "source": [
    " Write a function filter_long_words() that takes a list of words and an integer n and returns  the list of words that are longer than n. "
   ]
  },
  {
   "cell_type": "code",
   "execution_count": 3,
   "metadata": {},
   "outputs": [],
   "source": [
    "lst=[\"yg\",\"uiyug\",\"uyhuh\",\"computer\"]\n",
    "n=2"
   ]
  },
  {
   "cell_type": "code",
   "execution_count": 4,
   "metadata": {},
   "outputs": [],
   "source": [
    "def filter_long_words(lst,n):\n",
    "    lstn=[]\n",
    "    for x in lst:\n",
    "        s=len(x)\n",
    "        if s>n:\n",
    "            lstn.append(x)\n",
    "    print(lstn)\n",
    "        \n",
    "    "
   ]
  },
  {
   "cell_type": "code",
   "execution_count": 5,
   "metadata": {},
   "outputs": [
    {
     "name": "stdout",
     "output_type": "stream",
     "text": [
      "['uiyug', 'uyhuh', 'computer']\n"
     ]
    }
   ],
   "source": [
    "filter_long_words(lst,n)"
   ]
  },
  {
   "cell_type": "markdown",
   "metadata": {},
   "source": [
    "Write a Python program using function concept that maps list of words into a list of integers  representing the lengths of the corresponding words. \n",
    "Hint: If a list [ ab,cde,erty] is passed on to the python function output should come as [2,3,4] Here 2,3 and 4 are the lengths of the words in the list. \n"
   ]
  },
  {
   "cell_type": "code",
   "execution_count": 8,
   "metadata": {},
   "outputs": [],
   "source": [
    "def func2(lst2):\n",
    "    lstnew=[]\n",
    "    for x in lst2:\n",
    "        lstnew.append(len(x))\n",
    "    print(lstnew)\n",
    "    print(type(lstnew))"
   ]
  },
  {
   "cell_type": "code",
   "execution_count": 9,
   "metadata": {},
   "outputs": [
    {
     "name": "stdout",
     "output_type": "stream",
     "text": [
      "[3, 4, 3]\n",
      "<class 'list'>\n"
     ]
    }
   ],
   "source": [
    "lst2=[\"ddf\",\"gtew\",\"ytr\"]\n",
    "func2(lst2)"
   ]
  },
  {
   "cell_type": "markdown",
   "metadata": {},
   "source": [
    "Write a Python function which takes a character (i.e. a string of length 1) and returns True if  it is a vowel, False otherwise. \n"
   ]
  },
  {
   "cell_type": "code",
   "execution_count": 11,
   "metadata": {},
   "outputs": [],
   "source": [
    "def func1(x):\n",
    "    lst=['a','e','i','o','u']\n",
    "    for i in lst:\n",
    "        if i==x:\n",
    "            print(\"Vowel found\")\n",
    "            return True\n",
    "    else:\n",
    "        print(\"Vowel not found\")\n",
    "        return False\n",
    "        \n",
    "            "
   ]
  },
  {
   "cell_type": "code",
   "execution_count": 12,
   "metadata": {},
   "outputs": [
    {
     "name": "stdout",
     "output_type": "stream",
     "text": [
      "Vowel not found\n"
     ]
    },
    {
     "data": {
      "text/plain": [
       "False"
      ]
     },
     "execution_count": 12,
     "metadata": {},
     "output_type": "execute_result"
    }
   ],
   "source": [
    "func1('f')"
   ]
  },
  {
   "cell_type": "code",
   "execution_count": 13,
   "metadata": {},
   "outputs": [
    {
     "name": "stdout",
     "output_type": "stream",
     "text": [
      "Vowel found\n"
     ]
    },
    {
     "data": {
      "text/plain": [
       "True"
      ]
     },
     "execution_count": 13,
     "metadata": {},
     "output_type": "execute_result"
    }
   ],
   "source": [
    "func1('i')"
   ]
  },
  {
   "cell_type": "markdown",
   "metadata": {},
   "source": [
    "1.1 Write a Python Program(with class concepts) to find the area of the triangle using the below  formula. \n",
    "area = (s*(s-a)*(s-b)*(s-c)) ** 0.5 \n",
    "Function to take the length of the sides of triangle from user should be defined in the parent  class and function to calculate the area should be defined in subclass. \n"
   ]
  },
  {
   "cell_type": "code",
   "execution_count": 14,
   "metadata": {},
   "outputs": [
    {
     "name": "stdout",
     "output_type": "stream",
     "text": [
      "a2\n",
      "b3\n",
      "c4\n",
      "The area is 2.9047375096555625\n"
     ]
    }
   ],
   "source": [
    "class parlen1():                      #parent class\n",
    "    def __init__(self,a,b,c):    \n",
    "        self.a=a\n",
    "        self.b=b\n",
    "        self.c=c\n",
    "a=int(input(\"a\",))\n",
    "b=int(input(\"b\",))\n",
    "c=int(input(\"c\",))\n",
    "class area12(parlen1):                 #child class\n",
    "    def area123(self):\n",
    "        s= (a+b+c) /2\n",
    "        s1=(s*(s-a)*(s-b)*(s-c)) ** 0.5     \n",
    "        return s1\n",
    "obj1=area12(a,b,c)\n",
    "print(\"The area is\",obj1.area123())   #function call\n",
    "        "
   ]
  },
  {
   "cell_type": "code",
   "execution_count": null,
   "metadata": {},
   "outputs": [],
   "source": []
  }
 ],
 "metadata": {
  "kernelspec": {
   "display_name": "Python 3",
   "language": "python",
   "name": "python3"
  },
  "language_info": {
   "codemirror_mode": {
    "name": "ipython",
    "version": 3
   },
   "file_extension": ".py",
   "mimetype": "text/x-python",
   "name": "python",
   "nbconvert_exporter": "python",
   "pygments_lexer": "ipython3",
   "version": "3.8.5"
  }
 },
 "nbformat": 4,
 "nbformat_minor": 4
}
