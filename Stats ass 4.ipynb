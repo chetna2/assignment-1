{
 "cells": [
  {
   "cell_type": "markdown",
   "metadata": {},
   "source": [
    "Is gender independent of education level? A random sample of 395 people were\n",
    "surveyed and each person was asked to report the highest education level they\n",
    "obtained. The data that resulted from the survey is summarized in the following table:\n",
    "High School Bachelors Masters Ph.d. Total\n",
    "Female 60 54 46 41 201\n",
    "Male 40 44 53 57 194\n",
    "Total 100 98 99 98 395\n",
    "Question: Are gender and education level dependent at 5% level of significance? In\n",
    "other words, given the data collected above, is there a relationship between the\n",
    "gender of an individual and the level of education that they have obtained?"
   ]
  },
  {
   "cell_type": "code",
   "execution_count": 15,
   "metadata": {},
   "outputs": [
    {
     "name": "stdout",
     "output_type": "stream",
     "text": [
      "[[ 60  54  46  41 201]\n",
      " [ 40  44  53  57 194]\n",
      " [100  98  99  98 395]]\n",
      "1580\n",
      "[200 196 198 196 790]\n",
      "[[50.88607594936709, 49.868354430379746, 50.37721518987342, 49.868354430379746, 201.0], [49.11392405063291, 48.131645569620254, 48.62278481012658, 48.131645569620254, 194.0], [100.0, 98.0, 99.0, 98.0, 395.0]]\n",
      "Chi square value 8.006066246262538\n",
      "3\n",
      "chi score 7.814727903251179\n",
      "Reject H0\n",
      " The education level depends on gender at a 5% level of significance.\n"
     ]
    }
   ],
   "source": [
    "import numpy as np\n",
    "A = np.array([[60,54,46,41,201],[40,44,53,57,194],[100,98,99,98,395]])\n",
    "              \n",
    "print(A)\n",
    "colsum=(np.sum(A,axis=0))\n",
    "rowsum=(np.sum(A,axis=1))\n",
    "tot=np.sum(colsum)\n",
    "print(tot)\n",
    "print(colsum)\n",
    "E=[]\n",
    "for i in rowsum:\n",
    "    a=[]\n",
    "    for j in colsum:\n",
    "        v=i*j/tot\n",
    "        a.append(v)\n",
    "    E.append(a)\n",
    "print(E)\n",
    "s=0\n",
    "for i in range(len(A)):\n",
    "    for j in range(len(A[0])):\n",
    "        temp=abs((A[i][j]-E[i][j]))\n",
    "        temp1=temp**2\n",
    "        t1=temp1/E[i][j]\n",
    "        s=s+t1\n",
    "print(\"Chi square value\",s)    \n",
    "#dof=(len(rowsum)-1)*(len(colsum)-1)\n",
    "dof=3\n",
    "print(dof)\n",
    "sig=0.05\n",
    "import scipy.stats\n",
    "chiscore=scipy.stats.chi2.ppf(1-sig, dof)\n",
    "print(\"chi score\",chiscore)\n",
    "if s<chiscore:\n",
    "    print(\"Accept H0\")\n",
    "    print(\" the education level does not depend on gender at a 5% level of significance.\")\n",
    "else:\n",
    "    print(\"Reject H0\")\n",
    "    print(\" The education level depends on gender at a 5% level of significance.\")"
   ]
  },
  {
   "cell_type": "markdown",
   "metadata": {},
   "source": [
    "Using the following data, perform a oneway analysis of variance using α=.05. Write\n",
    "up the results in APA format.\n",
    "\n",
    "[Group1: 51, 45, 33, 45, 67]\n",
    "[Group2: 23, 43, 23, 43, 45]\n",
    "[Group3: 56, 76, 74, 87, 56]"
   ]
  },
  {
   "cell_type": "code",
   "execution_count": null,
   "metadata": {},
   "outputs": [],
   "source": []
  },
  {
   "cell_type": "code",
   "execution_count": 38,
   "metadata": {},
   "outputs": [
    {
     "name": "stdout",
     "output_type": "stream",
     "text": [
      "[[51 23 56]\n",
      " [45 43 76]\n",
      " [33 23 74]\n",
      " [45 43 87]\n",
      " [67 45 56]]\n",
      "[48.2 35.4 69.8]\n",
      "3\n",
      "[[  2.8 -12.4 -13.8]\n",
      " [ -3.2   7.6   6.2]\n",
      " [-15.2 -12.4   4.2]\n",
      " [ -3.2   7.6  17.2]\n",
      " [ 18.8   9.6 -13.8]]\n",
      "[[  7.84 153.76 190.44]\n",
      " [ 10.24  57.76  38.44]\n",
      " [231.04 153.76  17.64]\n",
      " [ 10.24  57.76 295.84]\n",
      " [353.44  92.16 190.44]]\n",
      "[612.8 515.2 732.8]\n",
      "mean_within 155.06666666666666\n",
      "1511.4666666666665\n",
      "9.747205503009457\n",
      "ss total 4883.733333333333\n",
      "var 0.61898001528885\n",
      "0.003059754143443061\n",
      "Reject Null Hypothesis\n",
      "3.8852938346523933\n",
      "f(2,12) 3.8852938346523933\n"
     ]
    }
   ],
   "source": [
    "import numpy as np\n",
    "A = np.array([[51,23,56],[45,43,76],[33,23,74],[45,43,87],[67,45,56]])\n",
    "n1=5\n",
    "n2=5\n",
    "n3=5\n",
    "print(A)\n",
    "colmean=(np.mean(A,axis=0))\n",
    "print(colmean)\n",
    "gm=np.mean(colmean)\n",
    "print(A.shape[1])\n",
    "de_meaned = A.copy()\n",
    "de_meaned = de_meaned.astype(np.float)\n",
    "sq_dev=de_meaned.copy()\n",
    "for i in range(A.shape[1]):  # iterate over col\n",
    "    a=colmean[i]\n",
    "    de_meaned[:,i] = de_meaned[:,i] - float(a)\n",
    "    sq_dev[:,i]=de_meaned[:,i]**2\n",
    "\n",
    "print(de_meaned)\n",
    "\n",
    "print(sq_dev)\n",
    "tot_sd=np.sum(sq_dev,axis=0)\n",
    "print(tot_sd)\n",
    "num=np.sum(tot_sd)\n",
    "den=n1+n2+n3-3\n",
    "mean_within=num/den\n",
    "print(\"mean_within\",mean_within)\n",
    "s1=0\n",
    "for i in colmean:\n",
    "    a1=n1*((i-gm)**2)\n",
    "    s1=(s1+a1)\n",
    "mean_bet=s1/(3-1)\n",
    "print(mean_bet)\n",
    "ftest=mean_bet/mean_within\n",
    "print(ftest)\n",
    "sswithin=num\n",
    "ssbet=s1\n",
    "sstot=sswithin+ssbet\n",
    "print(\"ss total\",sstot)\n",
    "var=ssbet/sstot\n",
    "print(\"var\",var)\n",
    "import scipy.stats\n",
    "p_value = scipy.stats.f.cdf(ftest, 2, 12)\n",
    "p_value=1-p_value\n",
    "print(p_value)\n",
    "alpha=0.05\n",
    "if p_value < alpha:\n",
    "    print(\"Reject Null Hypothesis\")\n",
    "else:\n",
    "    print(\"Accept Null Hypothesis\")\n",
    "fcritical=scipy.stats.f.ppf(1-0.05,2,12)\n",
    "print(fcritical)\n",
    "print(\"f(2,12)\",fcritical)"
   ]
  },
  {
   "cell_type": "markdown",
   "metadata": {},
   "source": [
    "Calculate F Test for given 10, 20, 30, 40, 50 and 5,10,15, 20, 25.\n",
    "For 10, 20, 30, 40, 50:"
   ]
  },
  {
   "cell_type": "code",
   "execution_count": 29,
   "metadata": {},
   "outputs": [
    {
     "name": "stdout",
     "output_type": "stream",
     "text": [
      "250.0 62.0\n",
      "Ftest value for 10,20,30,40,50 4.032258064516129\n"
     ]
    }
   ],
   "source": [
    "import numpy as np\n",
    "N=5\n",
    "N1=np.array([10,20,30,40,50])\n",
    "N2=np.array([5,10,15, 20, 25])\n",
    "import statistics as st\n",
    "xm1=st.mean(N1)\n",
    "sd1=st.stdev(N1)\n",
    "var1=sd1**2\n",
    "xm2=st.mean(N2)\n",
    "sd2=st.stdev(N2)\n",
    "var2=sd2**2\n",
    "print(var1,var2)\n",
    "Ftest=var1/var2\n",
    "print(\"Ftest value for 10,20,30,40,50\",Ftest)"
   ]
  },
  {
   "cell_type": "code",
   "execution_count": null,
   "metadata": {},
   "outputs": [],
   "source": []
  }
 ],
 "metadata": {
  "kernelspec": {
   "display_name": "Python 3",
   "language": "python",
   "name": "python3"
  },
  "language_info": {
   "codemirror_mode": {
    "name": "ipython",
    "version": 3
   },
   "file_extension": ".py",
   "mimetype": "text/x-python",
   "name": "python",
   "nbconvert_exporter": "python",
   "pygments_lexer": "ipython3",
   "version": "3.7.6"
  }
 },
 "nbformat": 4,
 "nbformat_minor": 4
}
